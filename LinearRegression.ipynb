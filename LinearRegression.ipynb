{
 "cells": [
  {
   "cell_type": "markdown",
   "id": "efb2b81d",
   "metadata": {},
   "source": [
    "# Linear Regression From Scratch\n",
    "---\n",
    "Linear Regression is a highly powerful tool, although it may seem basic compared to other models.\n",
    "<br/>\n",
    "<br/>\n",
    "Here is a general overview of the math involved:\n",
    "- Finding a Mean in data\n",
    "- Finding Standard Deviation\n",
    "- Finding Correlation Coeficent\n",
    "- Using previous values to find slope of regression equaiton\n",
    "<br/>\n",
    "<br/>\n",
    "What is Linear Regression? It is a regression or perdiction model that given points will fit a line to perdict \n",
    "<br/>\n",
    "![LinReg](LinReg.png)\n",
    "<br/>\n",
    "(The dots repersent the points and the redline repersent what the perdictions would be based on the x values)\n",
    "<br/>\n",
    "<br/>\n",
    "So in this problem statement we are given some points and need to find the line of best fit based on that, for this we are going to use something called a Least Squares Regression Line (LSRL), which will find the line that best minimizes the distance of points. \n",
    "<br/>\n",
    "P.S: There is many different ways to find values necessary to create a regression equation, in this we use sample statistics (rather than population) but this really depends on the problem statment.\n",
    "<br/>\n",
    "<br/>\n",
    "Sources: https://youtu.be/nk2CQITm_eo"
   ]
  },
  {
   "cell_type": "markdown",
   "id": "750cc459",
   "metadata": {},
   "source": [
    "## Finding a mean\n",
    "---\n",
    "We first need to find the mean of both the X and Y values, most of us should already understand how to find a mean but I will quickly explain, to find a mean (or average) you first add all the values and divide by how many values there are.\n",
    "<br/>\n",
    "<br/>\n",
    "Pseudo-code:\n",
    "<br/>\n",
    "><p>\n",
    "loop through values:\n",
    "<br/>\n",
    "&emsp; add values to sum\n",
    "<br/>\n",
    "return sum/total values\n",
    "<p/>"
   ]
  },
  {
   "cell_type": "code",
   "execution_count": 14,
   "id": "b7428057",
   "metadata": {},
   "outputs": [
    {
     "name": "stdout",
     "output_type": "stream",
     "text": [
      "Mean of X values: 2.5\n",
      "Mean of Y values: 3.5\n"
     ]
    }
   ],
   "source": [
    "import math\n",
    "class ScatterPlot:\n",
    "    def __init__(self, points):\n",
    "        self.points = points\n",
    "        self.pointsX = points[0]\n",
    "        self.pointsY = points[1]\n",
    "        self.meanX = self.mean(self.pointsX)\n",
    "        self.meanY = self.mean(self.pointsY)\n",
    "    def mean(self, points):\n",
    "        sum = 0\n",
    "        for p in points:\n",
    "            sum+=p    \n",
    "        return (sum/len(points))    \n",
    "    \n",
    "#lets do some test cases\n",
    "scatter = ScatterPlot([[0, 1, 2, 3, 4, 5], [1, 2, 3, 4, 5, 6]]) #2d array, [x values], [y values]\n",
    "print(\"Mean of X values: \" + str(scatter.meanX))# should be 2.5\n",
    "print(\"Mean of Y values: \" + str(scatter.meanY))# should be 3.5"
   ]
  },
  {
   "cell_type": "markdown",
   "id": "1fbb9e67",
   "metadata": {},
   "source": [
    "## Finding Standard Deviation\n",
    "---\n",
    "Standard deviation is a messure of how far away each point is from the mean, this will give a *Standard* or common way to tell the spread of points\n",
    "<br/>\n",
    "<br/>\n",
    "$$s = \\sqrt{\\frac{1}{N-1} \\sum_{i=1}^N (x_i - \\overline{x})^2}$$\n",
    "<br/>\n",
    "<br/>\n",
    "Pseudo-code:\n",
    "<br/>\n",
    "><p>\n",
    "loop through values:\n",
    "<br/>\n",
    "&emsp; add the (value - mean)^2 to sum\n",
    "<br/>\n",
    "return sqrt(sum/len(points))\n",
    "<p/>\n",
    "<br/>\n",
    "Standard Deviation: https://youtu.be/SzZ6GpcfoQY"
   ]
  },
  {
   "cell_type": "code",
   "execution_count": 1,
   "id": "8d77a9cf",
   "metadata": {},
   "outputs": [
    {
     "name": "stdout",
     "output_type": "stream",
     "text": [
      "Standard Deviation of X values: 1.8708286933869707\n",
      "Standard Deviation of Y values: 1.8708286933869707\n"
     ]
    }
   ],
   "source": [
    "import math\n",
    "class ScatterPlot:\n",
    "    def __init__(self, points):\n",
    "        self.points = points\n",
    "        self.pointsX = points[0]\n",
    "        self.pointsY = points[1]\n",
    "        self.meanX = self.mean(self.pointsX)\n",
    "        self.meanY = self.mean(self.pointsY)\n",
    "        self.SDx = self.standardDev(self.pointsX, self.meanX)\n",
    "        self.SDy = self.standardDev(self.pointsY, self.meanY)\n",
    "    def mean(self, points):\n",
    "        sum = 0\n",
    "        for p in points:\n",
    "            sum+=p\n",
    "        return (sum/len(points))\n",
    "    def standardDev(self, points, mean):\n",
    "        sumOfSquares = 0\n",
    "        for p in points:\n",
    "            sumOfSquares+= ((p-mean) ** 2)\n",
    "        return math.sqrt(sumOfSquares/(len(points)-1))\n",
    "    \n",
    "#lets do some test cases\n",
    "scatter = ScatterPlot([[0, 1, 2, 3, 4, 5], [1, 2, 3, 4, 5, 6]]) #2d array, [x values], [y values]\n",
    "print(\"Standard Deviation of X values: \" + str(scatter.SDx))# should be ~1.8708\n",
    "print(\"Standard Deviation of Y values: \" + str(scatter.SDy))# should be same ~1.8708 because the spread is the same"
   ]
  },
  {
   "cell_type": "markdown",
   "id": "8ce0aa40",
   "metadata": {},
   "source": [
    "## Finding Correlation Coefficent\n",
    "---\n",
    "The correlation coefficent (r) is a messure of association between X and Y; although it seems like a long and complicated formula, the hard part of it is the large ammount of calculations not the equation itself, which is exactly what a computer is for.\n",
    "<br/>\n",
    "<br/>\n",
    "${\\displaystyle r_{xy}={\\frac {1}{n-1}}\\sum _{i=1}^{n}\\left({\\frac {x_{i}-{\\bar {x}}}{s_{x}}}\\right)\\left({\\frac {y_{i}-{\\bar {y}}}{s_{y}}}\\right)}$\n",
    "\n",
    "or using Z-Scores:\n",
    "\n",
    "${\\displaystyle r_{xy}={\\frac {1}{n-1}}\\sum _{i=1}^{n}\\left({Z_x}\\right)\\left({Z_y}\\right)}$\n",
    "<br/>\n",
    "<br/>\n",
    "Pseudo-code:\n",
    "<br/>\n",
    "><p>\n",
    "loop through points:\n",
    "<br/>\n",
    "&emsp; add (pointX - meanX)/SDx * (pointY - meanY)/SDy to the sum\n",
    "<br/>\n",
    "return sum/(len(points)-1)\n",
    "<p/>\n",
    "<br/>\n",
    "Correlation: https://youtu.be/xZ_z8KWkhXE"
   ]
  },
  {
   "cell_type": "code",
   "execution_count": 6,
   "id": "2affa22e",
   "metadata": {},
   "outputs": [
    {
     "name": "stdout",
     "output_type": "stream",
     "text": [
      "Correlation of X and Y: 0.9474812036182134\n"
     ]
    }
   ],
   "source": [
    "import math\n",
    "class ScatterPlot:\n",
    "    def __init__(self, points):\n",
    "        self.points = points\n",
    "        self.pointsX = points[0]\n",
    "        self.pointsY = points[1]\n",
    "        self.meanX = self.mean(self.pointsX)\n",
    "        self.meanY = self.mean(self.pointsY)\n",
    "        self.SDx = self.standardDev(self.pointsX, self.meanX)\n",
    "        self.SDy = self.standardDev(self.pointsY, self.meanY)\n",
    "        self.r = self.correlation()\n",
    "        #Slope\n",
    "        self.slope = self.r*(self.SDy/self.SDx)\n",
    "        \n",
    "    def mean(self, points):\n",
    "        sum = 0\n",
    "        for p in points:\n",
    "            sum+=p\n",
    "        return (sum/len(points))\n",
    "    def standardDev(self, points, mean):\n",
    "        sumOfSquares = 0\n",
    "        for p in points:\n",
    "            sumOfSquares+= ((p-mean) ** 2)\n",
    "        return math.sqrt(sumOfSquares/(len(points)-1))\n",
    "    def correlation(self):\n",
    "        zSum = 0\n",
    "        for i in range (len(self.points[0])):\n",
    "            zSum += (((self.points[0][i]-self.meanX)/self.SDx) * ((self.points[1][i]-self.meanY)/self.SDy))\n",
    "        return zSum/(len(self.pointsX)-1)\n",
    "\n",
    "#lets do some test cases\n",
    "scatter = ScatterPlot([[1, 3, 9, 12, 11, 12], [1, 2, 4, 6, 7, 8]]) #2d array, [x values], [y values]\n",
    "print(\"Correlation of X and Y: \" + str(scatter.r)) # should be ~0.9475\n"
   ]
  },
  {
   "cell_type": "markdown",
   "id": "6fc1fbd8",
   "metadata": {},
   "source": [
    "## Putting it all together\n",
    "---\n",
    "The equation for a regression line -like any line- would be y = mx + b, the slope (m) in this case would be $\\frac{S_y(r)}{S_x}$ \n",
    "<br/>\n",
    "<br/>\n"
   ]
  },
  {
   "cell_type": "code",
   "execution_count": 8,
   "id": "70f67129",
   "metadata": {},
   "outputs": [
    {
     "name": "stdout",
     "output_type": "stream",
     "text": [
      "Least Squares Regression Lines for X and Y: y = 0.552x + 0.253\n"
     ]
    }
   ],
   "source": [
    "import math\n",
    "class ScatterPlot:\n",
    "    def __init__(self, points):\n",
    "        self.points = points\n",
    "        self.pointsX = points[0]\n",
    "        self.pointsY = points[1]\n",
    "        self.meanX = self.mean(self.pointsX)\n",
    "        self.meanY = self.mean(self.pointsY)\n",
    "        self.SDx = self.standardDev(self.pointsX, self.meanX)\n",
    "        self.SDy = self.standardDev(self.pointsY, self.meanY)\n",
    "        self.r = self.correlation()\n",
    "        self.slope = self.r*(self.SDy/self.SDx)\n",
    "        self.regression = self.LSRL()\n",
    "        \n",
    "    def mean(self, points):\n",
    "        sum = 0\n",
    "        for p in points:\n",
    "            sum+=p\n",
    "        return (sum/len(points))\n",
    "    def standardDev(self, points, mean):\n",
    "        sumOfSquares = 0\n",
    "        for p in points:\n",
    "            sumOfSquares+= ((p-mean) ** 2)\n",
    "        return math.sqrt(sumOfSquares/(len(points)-1))\n",
    "    def correlation(self):\n",
    "        zSum = 0\n",
    "        for i in range (len(self.points[0])):\n",
    "            zSum += (((self.points[0][i]-self.meanX)/self.SDx) * ((self.points[1][i]-self.meanY)/self.SDy))\n",
    "        return zSum/(len(self.pointsX)-1)\n",
    "    def LSRL(self):\n",
    "        yInt = self.meanY-(self.slope*self.meanX)\n",
    "        return \"y = \" + str(round(self.slope, 3)) + \"x + \" + str(round(yInt, 3))\n",
    "    def perdictLSRL(self):\n",
    "        predictions = []\n",
    "        for x in self.points:\n",
    "            predictions.append(self.slope*x + self.yInt)\n",
    "        return predictions\n",
    "scatter = ScatterPlot([[1, 3, 9, 12, 11, 12], [1, 2, 4, 6, 7, 8]]) #2d array, [x values], [y values]\n",
    "print(\"Least Squares Regression Lines for X and Y: \" + str(scatter.regression)) "
   ]
  },
  {
   "cell_type": "markdown",
   "id": "4f50c276",
   "metadata": {},
   "source": [
    "# Further Study\n",
    "---\n",
    "Now you can try adjusting this code to work for the whole population as well, or you could create a similar logistic regression algorithim \n",
    "\n",
    "Logistic Regression: https://youtu.be/yIYKR4sgzI8"
   ]
  }
 ],
 "metadata": {
  "kernelspec": {
   "display_name": "Python 3",
   "language": "python",
   "name": "python3"
  },
  "language_info": {
   "codemirror_mode": {
    "name": "ipython",
    "version": 3
   },
   "file_extension": ".py",
   "mimetype": "text/x-python",
   "name": "python",
   "nbconvert_exporter": "python",
   "pygments_lexer": "ipython3",
   "version": "3.8.8"
  }
 },
 "nbformat": 4,
 "nbformat_minor": 5
}
