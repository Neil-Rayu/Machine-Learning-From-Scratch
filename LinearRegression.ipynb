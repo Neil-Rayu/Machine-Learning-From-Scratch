{
 "cells": [
  {
   "cell_type": "markdown",
   "id": "efb2b81d",
   "metadata": {},
   "source": [
    "# Linear Regression From Scratch\n",
    "---\n",
    "Linear Regression is a highly powerful tool, although it may seem basic compared to other models.\n",
    "<br/>\n",
    "<br/>\n",
    "Here is a general overview of the math involved:\n",
    "- Finding a mean in data\n",
    "- Finding Standard Deviation\n",
    "- Finding Correlation Coeficent\n",
    "- Using previous values to find slope of regression equaiton\n",
    "<br/>\n",
    "<br/>\n",
    "What is Linear Regression? It is a regression or perdiction model that given points will fit a line to perdict \n",
    "<br/>\n",
    "![LinReg](LinReg.png)\n",
    "<br/>\n",
    "(The dots repersent the points and the redline repersent what the perdictions would be based on the x values)\n",
    "<br/>\n",
    "<br/>\n",
    "So in this problem statement we are given some points and need to find the line of best fit based on that, for this we are going to use something called a Least Squares Regression Line (LSRL), which will find the line that best minimizes the distance of points.\n",
    "<br/>\n",
    "<br/>\n",
    "Sources: https://youtu.be/nk2CQITm_eo"
   ]
  },
  {
   "cell_type": "markdown",
   "id": "750cc459",
   "metadata": {},
   "source": [
    "## Finding a mean\n",
    "---\n",
    "We first need to find the mean of both the X and Y values, most of us should already understand how to find a mean but I will quickly explain, to find a mean (or average) you first add all the values and divide by how many values there are.\n",
    "<br/>\n",
    "<br/>\n",
    "Pseudo-code:\n",
    "<br/>\n",
    "><p>\n",
    "loop through values:\n",
    "<br/>\n",
    "&emsp; add values to sum\n",
    "<br/>\n",
    "return sum/total values\n",
    "<p/>"
   ]
  },
  {
   "cell_type": "code",
   "execution_count": 14,
   "id": "b7428057",
   "metadata": {},
   "outputs": [
    {
     "name": "stdout",
     "output_type": "stream",
     "text": [
      "Mean of X values: 2.5\n",
      "Mean of Y values: 3.5\n"
     ]
    }
   ],
   "source": [
    "import math\n",
    "class ScatterPlot:\n",
    "    def __init__(self, points):\n",
    "        self.points = points\n",
    "        self.pointsX = points[0]\n",
    "        self.pointsY = points[1]\n",
    "        self.meanX = self.mean(self.pointsX)\n",
    "        self.meanY = self.mean(self.pointsY)\n",
    "    def mean(self, points):\n",
    "        sum = 0\n",
    "        for p in points:\n",
    "            sum+=p    \n",
    "        return (sum/len(points))    \n",
    "    \n",
    "#lets do some test cases\n",
    "scatter = ScatterPlot([[0, 1, 2, 3, 4, 5], [1, 2, 3, 4, 5, 6]]) #2d array, [x values], [y values]\n",
    "print(\"Mean of X values: \" + str(scatter.meanX))# should be 2.5\n",
    "print(\"Mean of Y values: \" + str(scatter.meanY))# should be 3.5"
   ]
  },
  {
   "cell_type": "markdown",
   "id": "1fbb9e67",
   "metadata": {},
   "source": [
    "## Finding Standard Deviation\n",
    "---\n",
    "Standard deviation is a messure of how far away each point is from the mean, this will give a *Standard* or common way to tell the spread of points\n",
    "<br/>\n",
    "<br/>\n",
    "Pseudo-code:\n",
    "<br/>\n",
    "><p>\n",
    "loop through values:\n",
    "<br/>\n",
    "&emsp; add the (value - mean)^2 to sum\n",
    "<br/>\n",
    "return sqrt(sum/2)\n",
    "<p/>"
   ]
  },
  {
   "cell_type": "code",
   "execution_count": 16,
   "id": "8d77a9cf",
   "metadata": {},
   "outputs": [
    {
     "name": "stdout",
     "output_type": "stream",
     "text": [
      "Standard Deviation of X values: 1.707825127659933\n",
      "Standard Deviation of Y values: 1.707825127659933\n"
     ]
    }
   ],
   "source": [
    "import math\n",
    "class ScatterPlot:\n",
    "    def __init__(self, points):\n",
    "        self.points = points\n",
    "        self.pointsX = points[0]\n",
    "        self.pointsY = points[1]\n",
    "        self.meanX = self.mean(self.pointsX)\n",
    "        self.meanY = self.mean(self.pointsY)\n",
    "        self.SDx = self.standardDev(self.pointsX, self.meanX)\n",
    "        self.SDy = self.standardDev(self.pointsY, self.meanY)\n",
    "    def mean(self, points):\n",
    "        sum = 0\n",
    "        for p in points:\n",
    "            sum+=p\n",
    "        return (sum/len(points))\n",
    "    def standardDev(self, points, mean):\n",
    "        sumOfSquares = 0\n",
    "        for p in points:\n",
    "            sumOfSquares+= ((p-mean) ** 2)\n",
    "        return math.sqrt(sumOfSquares/len(points))\n",
    "    \n",
    "#lets do some test cases\n",
    "scatter = ScatterPlot([[0, 1, 2, 3, 4, 5], [1, 2, 3, 4, 5, 6]]) #2d array, [x values], [y values]\n",
    "print(\"Standard Deviation of X values: \" + str(scatter.SDx))# should be ~1.7078\n",
    "print(\"Standard Deviation of Y values: \" + str(scatter.SDy))# should be same ~1.7078 because the spread is the same"
   ]
  },
  {
   "cell_type": "markdown",
   "id": "8ce0aa40",
   "metadata": {},
   "source": [
    "## Finding Correlation Coefficent\n",
    "---\n",
    "The correlation coefficent (r) is a messure of association between X and Y\n",
    "<br/>\n",
    "<br/>\n",
    "Pseudo-code:\n",
    "<br/>\n",
    "><p>\n",
    "loop through values:\n",
    "<br/>\n",
    "&emsp; add the (value - mean)^2 to sum\n",
    "<br/>\n",
    "return sqrt(sum/2)\n",
    "<p/>"
   ]
  },
  {
   "cell_type": "code",
   "execution_count": null,
   "id": "2affa22e",
   "metadata": {},
   "outputs": [],
   "source": [
    "import math\n",
    "class ScatterPlot:\n",
    "    def __init__(self, points):\n",
    "        self.points = points\n",
    "        self.pointsX = points[0]\n",
    "        self.pointsY = points[1]\n",
    "        self.meanX = self.mean(self.pointsX)\n",
    "        self.meanY = self.mean(self.pointsY)\n",
    "        self.SDx = self.standardDev(self.pointsX, self.meanX)\n",
    "        self.SDy = self.standardDev(self.pointsY, self.meanY)\n",
    "        self.r = self.correlation()\n",
    "        #Slope\n",
    "        self.slope = self.r*(self.SDy/self.SDx)\n",
    "        \n",
    "    def mean(self, points):\n",
    "        sum = 0\n",
    "        for p in points:\n",
    "            sum+=p\n",
    "        return (sum/len(points))\n",
    "    def standardDev(self, points, mean):\n",
    "        sumOfSquares = 0\n",
    "        for p in points:\n",
    "            sumOfSquares+= ((p-mean) ** 2)\n",
    "        return math.sqrt(sumOfSquares/2)\n",
    "    def correlation(self):\n",
    "        zSum = 0\n",
    "        for i in range (len(self.points[0])):\n",
    "            zSum += (((self.points[0][i]-self.meanX)/self.SDx) * ((self.points[1][i]-self.meanY)/self.SDy))\n",
    "        return zSum/(len(self.points))"
   ]
  },
  {
   "cell_type": "markdown",
   "id": "6fc1fbd8",
   "metadata": {},
   "source": [
    "## Putting it all together\n",
    "---\n",
    "Standard deviation is a messure of how far away each point is from the mean, this will give a *Standard* or common way to tell the spread of points\n",
    "<br/>\n",
    "<br/>\n",
    "Pseudo-code:\n",
    "<br/>\n",
    "><p>\n",
    "loop through values:\n",
    "<br/>\n",
    "&emsp; add the (value - mean)^2 to sum\n",
    "<br/>\n",
    "return sqrt(sum/2)\n",
    "<p/>"
   ]
  },
  {
   "cell_type": "code",
   "execution_count": 8,
   "id": "70f67129",
   "metadata": {},
   "outputs": [],
   "source": [
    "import math\n",
    "class ScatterPlot:\n",
    "    def __init__(self, points):\n",
    "        self.points = points\n",
    "        self.pointsX = points[0]\n",
    "        self.pointsY = points[1]\n",
    "        self.meanX = self.mean(self.pointsX)\n",
    "        self.meanY = self.mean(self.pointsY)\n",
    "        self.SDx = self.standardDev(self.pointsX, self.meanX)\n",
    "        self.SDy = self.standardDev(self.pointsY, self.meanY)\n",
    "        self.r = self.correlation()\n",
    "        self.slope = self.r*(self.SDy/self.SDx)\n",
    "        self.regression = self.LSRL()\n",
    "        \n",
    "    def mean(self, points):\n",
    "        sum = 0\n",
    "        for p in points:\n",
    "            sum+=p\n",
    "        return (sum/len(points))\n",
    "    def standardDev(self, points, mean):\n",
    "        sumOfSquares = 0\n",
    "        for p in points:\n",
    "            sumOfSquares+= ((p-mean) ** 2)\n",
    "        return math.sqrt(sumOfSquares/2)\n",
    "    def correlation(self):\n",
    "        zSum = 0\n",
    "        for i in range (len(self.points[0])):\n",
    "            zSum += (((self.points[0][i]-self.meanX)/self.SDx) * ((self.points[1][i]-self.meanY)/self.SDy))\n",
    "        return zSum/(len(self.points))\n",
    "    def LSRL(self):\n",
    "        yInt = self.meanY-(self.slope*self.meanX)\n",
    "        return \"y = \" + str(round(self.slope, 3)) + \"x + \" + str(round(yInt, 3))\n",
    "    def perdictLSRL(self):\n",
    "        predictions = []\n",
    "        for x in self.points:\n",
    "            predictions.append(self.slope*x + self.yInt)\n",
    "        return predictions"
   ]
  },
  {
   "cell_type": "code",
   "execution_count": null,
   "id": "4f50c276",
   "metadata": {},
   "outputs": [],
   "source": []
  }
 ],
 "metadata": {
  "kernelspec": {
   "display_name": "Python 3",
   "language": "python",
   "name": "python3"
  },
  "language_info": {
   "codemirror_mode": {
    "name": "ipython",
    "version": 3
   },
   "file_extension": ".py",
   "mimetype": "text/x-python",
   "name": "python",
   "nbconvert_exporter": "python",
   "pygments_lexer": "ipython3",
   "version": "3.8.8"
  }
 },
 "nbformat": 4,
 "nbformat_minor": 5
}
